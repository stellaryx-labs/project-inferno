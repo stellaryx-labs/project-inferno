{
 "cells": [
  {
   "cell_type": "code",
   "id": "initial_id",
   "metadata": {
    "collapsed": true,
    "ExecuteTime": {
     "end_time": "2025-07-24T07:00:06.277074Z",
     "start_time": "2025-07-24T07:00:06.270708Z"
    }
   },
   "source": "",
   "outputs": [],
   "execution_count": null
  },
  {
   "metadata": {},
   "cell_type": "markdown",
   "source": [
    "# Geographical Interest\n",
    "\n",
    "### Significance:\n",
    "The Eaton Fire ranks as the second most destructive and fifth deadliest wildfire in California’s recorded history. Alongside the concurrent Palisades Fire, it underscored the risks of outdated electrical infrastructure amid worsening drought and wind events\n",
    "\n",
    "### Area of Interest (AOI): 2025 Eaton Fire\n",
    "\n",
    "### Date / Time Range: January 2025\n",
    "\n",
    "### Region Overview:\n",
    "The Eaton Fire was one of the most devastating wildfires in California history. Fueled by historic drought and Santa Ana winds it burned over 14,000 acres, destroyed more than 9,400 structures, and ultimately claimed 31 lives\n",
    "\n",
    "### Santa Ana Winds:\n",
    "- Hot, dry, downslope winds exceed 50 mph most falls/winters; 2025 gusts hit 90 mph, hurling embers 2 miles ahead\n",
    "- Windstorms negate aerial attack until ceilings >4,000 ft; tankers grounded first critical hours in 2025\n",
    "\n",
    "### Drought and Fuel Accumulation\n",
    "- Eight months without measurable rain preceded 2025 fire, leaving chaparral moisture below 7%\n",
    "- 50-60-year unburned fuels in Topanga State Park intensified 2021 spread\n",
    "\n",
    "By January 31, after 24 days of intense firefighting operations, the fire was declared 100% contained\n",
    "\n",
    "### Recap\n",
    "- Total Area Burned: 14,021 acres\n",
    "- Structures Destroyed: 9,418 + homes & businesses\n",
    "- Structures Damaged: ≈1,071\n",
    "- Fatalities: 31 confirmed deaths (to July 2025)\n",
    "- Injuries: Multiple civilian & firefighter injuries reported"
   ],
   "id": "40bbb3b586e2dad4"
  },
  {
   "metadata": {
    "ExecuteTime": {
     "end_time": "2025-07-24T07:00:31.692805Z",
     "start_time": "2025-07-24T07:00:31.684370Z"
    }
   },
   "cell_type": "code",
   "source": [
    "pacific_palisades_bounds = {\n",
    "    \"min_lat\": 34.030,\n",
    "    \"max_lat\": 34.090,\n",
    "    \"min_lon\": -118.560,\n",
    "    \"max_lon\": -118.480\n",
    "}"
   ],
   "id": "8ff811559eb7bbd0",
   "outputs": [],
   "execution_count": 2
  },
  {
   "metadata": {},
   "cell_type": "code",
   "outputs": [],
   "execution_count": null,
   "source": "",
   "id": "14c83229a285cdfd"
  },
  {
   "metadata": {},
   "cell_type": "markdown",
   "source": [
    "### Fire Perimeter Shapefiles\n",
    "\n",
    "CAL FIRE FRAP (Fire and Resource Assessment Program)\n",
    "→ https://frap.fire.ca.gov/mapping/gis-data/\n",
    "\n",
    "National Interagency Fire Center (NIFC) ArcGIS services\n",
    "→ https://data-nifc.opendata.arcgis.com/\n",
    "\n",
    "LA County GIS Open Data\n",
    "→ https://egis-lacounty.hub.arcgis.com/\n",
    "\n",
    "https://egis-lacounty.hub.arcgis.com/maps/ad51845ea5fb4eb483bc2a7c38b2370c"
   ],
   "id": "a3438afbf8fc2eda"
  },
  {
   "metadata": {},
   "cell_type": "code",
   "outputs": [],
   "execution_count": null,
   "source": "",
   "id": "315f3dee02633c06"
  }
 ],
 "metadata": {
  "kernelspec": {
   "display_name": "Python 3",
   "language": "python",
   "name": "python3"
  },
  "language_info": {
   "codemirror_mode": {
    "name": "ipython",
    "version": 2
   },
   "file_extension": ".py",
   "mimetype": "text/x-python",
   "name": "python",
   "nbconvert_exporter": "python",
   "pygments_lexer": "ipython2",
   "version": "2.7.6"
  }
 },
 "nbformat": 4,
 "nbformat_minor": 5
}
